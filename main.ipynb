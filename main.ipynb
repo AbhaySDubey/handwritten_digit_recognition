{
 "cells": [
  {
   "cell_type": "code",
   "execution_count": 1,
   "metadata": {},
   "outputs": [],
   "source": [
    "import numpy as np\n",
    "import pandas as pd\n",
    "import matplotlib.pyplot as plt\n",
    "import random\n",
    "%matplotlib inline"
   ]
  },
  {
   "cell_type": "code",
   "execution_count": 2,
   "metadata": {},
   "outputs": [],
   "source": [
    "def Activation_ReLU(Z):\n",
    "    return np.maximum(0, Z)\n",
    "    \n",
    "def Activation_Softmax(Z):\n",
    "    return np.exp(Z) / sum(np.exp(Z))\n",
    "\n",
    "def deriv_ReLU(Z):\n",
    "    return Z > 0\n",
    "\n",
    "def one_hot_encode(Y):\n",
    "    one_hot_Y = np.zeros((Y.size, Y.max() + 1))\n",
    "    one_hot_Y[np.arange(Y.size), Y] = 1\n",
    "    return one_hot_Y.T"
   ]
  },
  {
   "cell_type": "code",
   "execution_count": 3,
   "metadata": {},
   "outputs": [],
   "source": [
    "class Neural_Net:\n",
    "    def __init__(self):\n",
    "        # hidden layer 1\n",
    "        self.W1 = np.random.rand(64, 784) - 0.5\n",
    "        self.b1 = np.random.rand(64, 1) - 0.5\n",
    "        \n",
    "        # hidden layer 2\n",
    "        self.W2 = np.random.rand(64, 64) - 0.5\n",
    "        self.b2 = np.random.rand(64, 1) - 0.5\n",
    "        \n",
    "        # output layer\n",
    "        self.W3 = np.random.rand(10, 64) - 0.5\n",
    "        self.b3 = np.random.rand(10, 1) - 0.5\n",
    "    \n",
    "    def forward_prop(self, X):\n",
    "        # for hidden layer 1\n",
    "        self.Z1 = self.W1.dot(X) + self.b1\n",
    "        self.A1 = Activation_ReLU(self.Z1)\n",
    "        \n",
    "        # for hidden layer 2\n",
    "        self.Z2 = self.W2.dot(self.A1) + self.b2\n",
    "        self.A2 = Activation_ReLU(self.Z2)\n",
    "        \n",
    "        # for output layer\n",
    "        self.Z3 = self.W3.dot(self.A2) + self.b3\n",
    "        self.A3 = Activation_Softmax(self.Z3)\n",
    "        \n",
    "        \n",
    "    def backward_prop(self, X, Y):\n",
    "        # to avoid numerical issues, such as overflow errors, we clip the values between the range 1e-7 to (1 - 1e-7)\n",
    "        m = Y.size\n",
    "        self.y_pred = np.clip(self.A3, 1e-7, (1 - 1e-7))\n",
    "        self.loss = -np.log(np.sum(self.y_pred * Y, axis=1))\n",
    "        \n",
    "        y_true = one_hot_encode(Y)\n",
    "        \n",
    "        self.dZ3 = (self.y_pred - y_true)\n",
    "        self.dW3 = (1 / m) * self.dZ3.dot(self.A2.T)\n",
    "        self.db3 = (1 / m) * self.dZ3\n",
    "        \n",
    "        self.dZ2 = self.W3.T.dot(self.dZ3) * deriv_ReLU(self.Z2)\n",
    "        self.dW2 = (1 / m) * self.dZ2.dot(self.A1.T)\n",
    "        self.db2 = (1 / m) * self.dZ2\n",
    "        \n",
    "        self.dZ1 = self.W2.dot(self.dZ2) * deriv_ReLU(self.Z1)\n",
    "        self.dW1 = (1 / m) * self.dZ1.dot(X.T)\n",
    "        self.db1 = (1 / m) * self.dZ1\n",
    "        \n",
    "    def update_params(self, alpha):\n",
    "        self.W1 = self.W1 - alpha * self.dW1\n",
    "        self.b1 = self.b1 - alpha * self.db1\n",
    "        self.W2 = self.W2 - alpha * self.dW2\n",
    "        self.b2 = self.b2 - alpha * self.db2\n",
    "        self.W3 = self.W3 - alpha * self.dW3\n",
    "        self.b3 = self.b3 - alpha * self.db3\n",
    "        \n",
    "    def get_predictions(self):\n",
    "        return np.argmax(self.A3, 0)\n",
    "        \n",
    "    def get_accuracy(self, predictions, Y):\n",
    "        return (np.sum(predictions == Y) / Y.size)\n",
    "        \n",
    "    def gradient_descent(self, iterations, X, Y, alpha):\n",
    "        for i in range(iterations):\n",
    "            self.forward_prop(X)\n",
    "            self.backward_prop(X, Y)\n",
    "            self.update_params(alpha)\n",
    "            self.loss_v_iter = []\n",
    "            \n",
    "            if (i % 10 == 0):\n",
    "                print(\"Epoch: \", i)\n",
    "                predictions = self.get_predictions()\n",
    "                print(\"Accuracy: \", self.get_accuracy(predictions, Y))\n",
    "                self.loss_v_iter.append([i, self.loss])\n",
    "    \n",
    "    def make_predictions(self, X):\n",
    "        self.forward_prop(X)\n",
    "        return self.get_predictions()\n",
    "    \n",
    "    def predict(self, X, Y):\n",
    "        predictions = self.make_predictions(X)\n",
    "        print(\"Accuracy: \", self.get_accuracy(predictions, Y))\n",
    "        print(\"\\n\\n\")\n",
    "        \n",
    "        for i in range(5):\n",
    "            ind = random.randint(1, len(Y) - 1)\n",
    "            label = Y[ind]\n",
    "            current_image = X[:, ind, None]\n",
    "            prediction = self.make_predictions(X[:, ind, None])\n",
    "            print(\"Prediction: \", prediction[0])\n",
    "            print(\"Label: \", label)\n",
    "\n",
    "            current_image = current_image.reshape((28, 28)) * 255\n",
    "            plt.gray()\n",
    "            plt.imshow(current_image, interpolation='nearest')\n",
    "            plt.show()"
   ]
  },
  {
   "cell_type": "code",
   "execution_count": 4,
   "metadata": {},
   "outputs": [
    {
     "name": "stdout",
     "output_type": "stream",
     "text": [
      "data.shape =  (50000, 785)\n",
      "data_train.shape =  (785, 50000)\n"
     ]
    }
   ],
   "source": [
    "data = pd.read_csv('data_csv/mnist_train.csv')\n",
    "n, m = data.shape\n",
    "data = np.array(data)\n",
    "print(\"data.shape = \", data.shape)\n",
    "data_train = data.T\n",
    "print(\"data_train.shape = \", data_train.shape)"
   ]
  },
  {
   "cell_type": "code",
   "execution_count": 5,
   "metadata": {},
   "outputs": [
    {
     "name": "stdout",
     "output_type": "stream",
     "text": [
      "X_train.shape =  (784, 50000)\n",
      "Y_train.shape =  (50000,)\n"
     ]
    }
   ],
   "source": [
    "Y_train = data_train[0]\n",
    "X_train = data_train[1:m]\n",
    "X_train = X_train / 255\n",
    "print(\"X_train.shape = \", X_train.shape)\n",
    "print(\"Y_train.shape = \", Y_train.shape)"
   ]
  },
  {
   "cell_type": "code",
   "execution_count": 6,
   "metadata": {},
   "outputs": [
    {
     "name": "stdout",
     "output_type": "stream",
     "text": [
      "Epoch:  0\n",
      "Accuracy:  0.09045\n",
      "Epoch:  10\n",
      "Accuracy:  0.3710333333333333\n",
      "Epoch:  20\n",
      "Accuracy:  0.5156166666666666\n",
      "Epoch:  30\n",
      "Accuracy:  0.5802166666666667\n",
      "Epoch:  40\n",
      "Accuracy:  0.6204666666666667\n",
      "Epoch:  50\n",
      "Accuracy:  0.6502666666666667\n",
      "Epoch:  60\n",
      "Accuracy:  0.6732166666666667\n",
      "Epoch:  70\n",
      "Accuracy:  0.69175\n",
      "Epoch:  80\n",
      "Accuracy:  0.7087666666666667\n",
      "Epoch:  90\n",
      "Accuracy:  0.7242\n",
      "Epoch:  100\n",
      "Accuracy:  0.7376333333333334\n",
      "Epoch:  110\n",
      "Accuracy:  0.7499\n",
      "Epoch:  120\n",
      "Accuracy:  0.7614666666666666\n",
      "Epoch:  130\n",
      "Accuracy:  0.7714833333333333\n",
      "Epoch:  140\n",
      "Accuracy:  0.7795666666666666\n",
      "Epoch:  150\n",
      "Accuracy:  0.78725\n",
      "Epoch:  160\n",
      "Accuracy:  0.7940166666666667\n",
      "Epoch:  170\n",
      "Accuracy:  0.8007833333333333\n",
      "Epoch:  180\n",
      "Accuracy:  0.8065833333333333\n",
      "Epoch:  190\n",
      "Accuracy:  0.81205\n",
      "Epoch:  200\n",
      "Accuracy:  0.8168666666666666\n",
      "Epoch:  210\n",
      "Accuracy:  0.8210833333333334\n",
      "Epoch:  220\n",
      "Accuracy:  0.8253666666666667\n",
      "Epoch:  230\n",
      "Accuracy:  0.8290333333333333\n",
      "Epoch:  240\n",
      "Accuracy:  0.8329666666666666\n",
      "Epoch:  250\n",
      "Accuracy:  0.8363833333333334\n",
      "Epoch:  260\n",
      "Accuracy:  0.8396166666666667\n",
      "Epoch:  270\n",
      "Accuracy:  0.8428333333333333\n",
      "Epoch:  280\n",
      "Accuracy:  0.8455666666666667\n",
      "Epoch:  290\n",
      "Accuracy:  0.8483333333333334\n"
     ]
    }
   ],
   "source": [
    "nn = Neural_Net()\n",
    "epochs = 300\n",
    "alpha = 0.10\n",
    "nn.gradient_descent(epochs, X_train, Y_train, alpha)"
   ]
  },
  {
   "cell_type": "code",
   "execution_count": 7,
   "metadata": {},
   "outputs": [
    {
     "name": "stdout",
     "output_type": "stream",
     "text": [
      "X_test.shape =  (784, 10000)\n",
      "Y_test.shape =  (10000,)\n"
     ]
    }
   ],
   "source": [
    "test_data = pd.read_csv('data_csv/mnist_test.csv')\n",
    "data_test = np.array(data).T\n",
    "Y_test = data_test[0]\n",
    "X_test = data_test[1:m]\n",
    "\n",
    "print(\"X_test.shape = \", X_test.shape)\n",
    "print(\"Y_test.shape = \", Y_test.shape)\n",
    "X_test = X_test / 255"
   ]
  },
  {
   "cell_type": "code",
   "execution_count": 8,
   "metadata": {},
   "outputs": [
    {
     "name": "stdout",
     "output_type": "stream",
     "text": [
      "Accuracy:  0.8511\n",
      "\n",
      "\n",
      "\n",
      "Prediction:  6\n",
      "Label:  6\n"
     ]
    },
    {
     "data": {
      "image/png": "[encoded data removed]",
      "text/plain": [
       "<Figure size 640x480 with 1 Axes>"
      ]
     },
     "metadata": {},
     "output_type": "display_data"
    },
    {
     "name": "stdout",
     "output_type": "stream",
     "text": [
      "Prediction:  5\n",
      "Label:  5\n"
     ]
    },
    {
     "data": {
      "image/png": "[encoded data removed]",
      "text/plain": [
       "<Figure size 640x480 with 1 Axes>"
      ]
     },
     "metadata": {},
     "output_type": "display_data"
    },
    {
     "name": "stdout",
     "output_type": "stream",
     "text": [
      "Prediction:  0\n",
      "Label:  0\n"
     ]
    },
    {
     "data": {
      "image/png": "[encoded data removed]",
      "text/plain": [
       "<Figure size 640x480 with 1 Axes>"
      ]
     },
     "metadata": {},
     "output_type": "display_data"
    },
    {
     "name": "stdout",
     "output_type": "stream",
     "text": [
      "Prediction:  3\n",
      "Label:  3\n"
     ]
    },
    {
     "data": {
      "image/png": "[encoded data removed]",
      "text/plain": [
       "<Figure size 640x480 with 1 Axes>"
      ]
     },
     "metadata": {},
     "output_type": "display_data"
    },
    {
     "name": "stdout",
     "output_type": "stream",
     "text": [
      "Prediction:  7\n",
      "Label:  7\n"
     ]
    },
    {
     "data": {
      "image/png": "[encoded data removed]",
      "text/plain": [
       "<Figure size 640x480 with 1 Axes>"
      ]
     },
     "metadata": {},
     "output_type": "display_data"
    }
   ],
   "source": [
    "nn.predict(X_test, Y_test)"
   ]
  },
  {
   "cell_type": "code",
   "execution_count": null,
   "metadata": {},
   "outputs": [],
   "source": []
  }
 ],
 "metadata": {
  "kernelspec": {
   "display_name": "Python 3",
   "language": "python",
   "name": "python3"
  },
  "language_info": {
   "codemirror_mode": {
    "name": "ipython",
    "version": 3
   },
   "file_extension": ".py",
   "mimetype": "text/x-python",
   "name": "python",
   "nbconvert_exporter": "python",
   "pygments_lexer": "ipython3",
   "version": "3.11.9"
  }
 },
 "nbformat": 4,
 "nbformat_minor": 2
}
